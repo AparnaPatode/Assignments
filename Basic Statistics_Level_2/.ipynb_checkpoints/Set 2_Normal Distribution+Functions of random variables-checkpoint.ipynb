{
 "cells": [
  {
   "cell_type": "code",
   "execution_count": 1,
   "id": "f549d95a",
   "metadata": {},
   "outputs": [],
   "source": [
    "# Q2."
   ]
  },
  {
   "cell_type": "code",
   "execution_count": 37,
   "id": "9d025b61",
   "metadata": {},
   "outputs": [],
   "source": [
    "import scipy.stats as stats\n",
    "import numpy as np"
   ]
  },
  {
   "cell_type": "code",
   "execution_count": 30,
   "id": "80ae2a53",
   "metadata": {},
   "outputs": [],
   "source": [
    "# Given data\n",
    "mean = 38\n",
    "std = 6"
   ]
  },
  {
   "cell_type": "markdown",
   "id": "cd77981a",
   "metadata": {},
   "source": [
    "# A. More employees at the processing center are older than 44 than between 38 and 44."
   ]
  },
  {
   "cell_type": "code",
   "execution_count": 31,
   "id": "8f6f837c",
   "metadata": {},
   "outputs": [],
   "source": [
    "# A.\n",
    "\n",
    "age_lessthan_38 = stats.norm.cdf(38, loc = mean, scale = std) "
   ]
  },
  {
   "cell_type": "code",
   "execution_count": 32,
   "id": "5c928fe4",
   "metadata": {},
   "outputs": [
    {
     "data": {
      "text/plain": [
       "0.5"
      ]
     },
     "execution_count": 32,
     "metadata": {},
     "output_type": "execute_result"
    }
   ],
   "source": [
    "age_lessthan_38"
   ]
  },
  {
   "cell_type": "code",
   "execution_count": 33,
   "id": "807ae56d",
   "metadata": {},
   "outputs": [],
   "source": [
    "age_less_than_44 = stats.norm.cdf(44, loc = mean, scale = std)"
   ]
  },
  {
   "cell_type": "code",
   "execution_count": 34,
   "id": "f523e1dc",
   "metadata": {},
   "outputs": [
    {
     "data": {
      "text/plain": [
       "0.8413447460685429"
      ]
     },
     "execution_count": 34,
     "metadata": {},
     "output_type": "execute_result"
    }
   ],
   "source": [
    "age_less_than_44"
   ]
  },
  {
   "cell_type": "code",
   "execution_count": 35,
   "id": "c2349091",
   "metadata": {},
   "outputs": [],
   "source": [
    "age_betweeen_38_and_44 = age_less_than_44 - age_lessthan_38 "
   ]
  },
  {
   "cell_type": "code",
   "execution_count": 39,
   "id": "3cd939f1",
   "metadata": {},
   "outputs": [
    {
     "name": "stdout",
     "output_type": "stream",
     "text": [
      "The probability of employee age between 38 and 44 is 0.34 %\n"
     ]
    }
   ],
   "source": [
    "print('The probability of employee age between 38 and 44 is',np.round(age_betweeen_38_and_44,2),'%') "
   ]
  },
  {
   "cell_type": "code",
   "execution_count": 40,
   "id": "7d08c91e",
   "metadata": {},
   "outputs": [],
   "source": [
    "age_morethan_44 = 1-stats.norm.cdf(44, loc = mean, scale = std)"
   ]
  },
  {
   "cell_type": "code",
   "execution_count": 46,
   "id": "f6a91eb6",
   "metadata": {},
   "outputs": [
    {
     "name": "stdout",
     "output_type": "stream",
     "text": [
      "The probability of employee age more than 44 is 0.15865525393145707 %\n"
     ]
    }
   ],
   "source": [
    "print('The probability of employee age more than 44 is',age_morethan_44,'%')"
   ]
  },
  {
   "cell_type": "code",
   "execution_count": 44,
   "id": "76cdf1dc",
   "metadata": {},
   "outputs": [
    {
     "name": "stdout",
     "output_type": "stream",
     "text": [
      "Answer: False\n"
     ]
    }
   ],
   "source": [
    "true_or_false = (age_morethan_44 > age_betweeen_38_and_44) \n",
    "print('Answer:',true_or_false)"
   ]
  },
  {
   "cell_type": "markdown",
   "id": "73a04162",
   "metadata": {},
   "source": [
    "# B. A training program for employees under the age of 30 at the center would be expected to attract about 36 employees"
   ]
  },
  {
   "cell_type": "code",
   "execution_count": 60,
   "id": "21bf94ab",
   "metadata": {},
   "outputs": [
    {
     "data": {
      "text/plain": [
       "9.121121972586788"
      ]
     },
     "execution_count": 60,
     "metadata": {},
     "output_type": "execute_result"
    }
   ],
   "source": [
    "age_36 = stats.norm.cdf(30, loc = mean, scale = std)*100\n",
    "age_36\n"
   ]
  },
  {
   "cell_type": "code",
   "execution_count": 61,
   "id": "2d3802f2",
   "metadata": {},
   "outputs": [
    {
     "name": "stdout",
     "output_type": "stream",
     "text": [
      "A training program for employees under the age of 30 at the center would be expected to attract about 36.0 employees\n"
     ]
    }
   ],
   "source": [
    "print('A training program for employees under the age of 30 at the center would be expected to attract about',np.round((age_36*400)/100,0),'employees')"
   ]
  },
  {
   "cell_type": "code",
   "execution_count": null,
   "id": "7c141e30",
   "metadata": {},
   "outputs": [],
   "source": []
  }
 ],
 "metadata": {
  "kernelspec": {
   "display_name": "Python 3 (ipykernel)",
   "language": "python",
   "name": "python3"
  },
  "language_info": {
   "codemirror_mode": {
    "name": "ipython",
    "version": 3
   },
   "file_extension": ".py",
   "mimetype": "text/x-python",
   "name": "python",
   "nbconvert_exporter": "python",
   "pygments_lexer": "ipython3",
   "version": "3.9.13"
  }
 },
 "nbformat": 4,
 "nbformat_minor": 5
}
